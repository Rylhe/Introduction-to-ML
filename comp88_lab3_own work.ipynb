{
  "nbformat": 4,
  "nbformat_minor": 0,
  "metadata": {
    "colab": {
      "provenance": [],
      "include_colab_link": true
    },
    "kernelspec": {
      "name": "python3",
      "display_name": "Python 3"
    },
    "language_info": {
      "name": "python"
    }
  },
  "cells": [
    {
      "cell_type": "markdown",
      "metadata": {
        "id": "view-in-github",
        "colab_type": "text"
      },
      "source": [
        "<a href=\"https://colab.research.google.com/github/Rylhe/Introduction-to-ML/blob/main/comp88_lab3_own%20work.ipynb\" target=\"_parent\"><img src=\"https://colab.research.google.com/assets/colab-badge.svg\" alt=\"Open In Colab\"/></a>"
      ]
    },
    {
      "cell_type": "markdown",
      "source": [
        "# COMP0088 Lab Assignment 3\n",
        "\n"
      ],
      "metadata": {
        "id": "iZgl8O7b-fi9"
      }
    },
    {
      "cell_type": "markdown",
      "source": [
        "## Introduction\n",
        "\n",
        "In this week's lab assignment we look at some non-parametric classification models and ensembles. These models have losses that are not smooth and aren't suited to simple gradient-based optimisation. You are only asked to produce naïve, brute force implementations of these models, but do note that such implementations can scale really badly, so be cautious about running the algorithms with large sample sizes. You may find it interesting to think about what strategies could be used to speed things up.\n",
        "\n",
        "Examples of the kinds of plots that will be produced by your finished code are shown below. Plotting code is provided, so your plots should look pretty similar, but the default resolution is lower to avoid the code taking too long to run.\n",
        "\n",
        "![example of completed plots](https://comp0088.github.io/assets/colab/week_3_small.jpg)\n",
        "\n",
        "The notebook uses a synthetic dataset (`week_3_data.csv`), which will be downloaded from the module GitHub in the **Setting Up** section below. This includes both binary and 3-class labels for the same data points, as illustrated in the following plots.\n",
        "\n",
        "![plots of data with binary and three-class labels](https://comp0088.github.io/assets/colab/week_3_data_small.jpg)"
      ],
      "metadata": {
        "id": "N12ZHil1_ZVN"
      }
    },
    {
      "cell_type": "markdown",
      "source": [
        "## Setting Up"
      ],
      "metadata": {
        "id": "hxzyJ3xeT4LB"
      }
    },
    {
      "cell_type": "markdown",
      "source": [
        "As usual, this notebook makes use of the NumPy library for numerical computing and the Matplotlib library for plotting, so we need to import them. We will also use the [Pandas](https://pandas.pydata.org/docs/user_guide/index.html) library for loading data."
      ],
      "metadata": {
        "id": "4vHvSz5pReci"
      }
    },
    {
      "cell_type": "code",
      "execution_count": 67,
      "metadata": {
        "id": "gL8UJ7lgLznk"
      },
      "outputs": [],
      "source": [
        "import numpy as np\n",
        "import numpy.random\n",
        "import pandas as pd\n",
        "import matplotlib\n",
        "import matplotlib.pyplot as plt\n",
        "\n",
        "# this is probably the default, but just in case\n",
        "%matplotlib inline"
      ]
    },
    {
      "cell_type": "markdown",
      "source": [
        "We'll also fetch some shared COMP0088 lab code and data from the module GitHub:"
      ],
      "metadata": {
        "id": "K1RLN5QATflG"
      }
    },
    {
      "cell_type": "code",
      "source": [
        "# load lab code and resources\n",
        "!git clone https://github.com/comp0088/shared.git comp0088\n",
        "\n",
        "# at the moment this is all we care about\n",
        "import comp0088.utils as utils"
      ],
      "metadata": {
        "id": "v3X7LDC5KAob",
        "colab": {
          "base_uri": "https://localhost:8080/"
        },
        "outputId": "f4ecb1ca-9b70-4800-8950-e285f9cbcb7f"
      },
      "execution_count": 68,
      "outputs": [
        {
          "output_type": "stream",
          "name": "stdout",
          "text": [
            "fatal: destination path 'comp0088' already exists and is not an empty directory.\n"
          ]
        }
      ]
    },
    {
      "cell_type": "markdown",
      "source": [
        "Set up some items for later use. We just load the whole dataset here — later on we'll access particular subsets of it."
      ],
      "metadata": {
        "id": "t1rjWDV14cGo"
      }
    },
    {
      "cell_type": "code",
      "source": [
        "# finally, set up some items for use in later code\n",
        "shared_rng = numpy.random.default_rng()\n",
        "\n",
        "# load the synthetic data\n",
        "df = pd.read_csv('comp0088/week_3_data.csv')"
      ],
      "metadata": {
        "id": "PfZQlfuELVwe"
      },
      "execution_count": 69,
      "outputs": []
    },
    {
      "cell_type": "markdown",
      "source": [
        "# Task 1: $k$-Nearest Neighbours\n",
        "\n",
        "In a $k$-Nearest Neighbours classifier, test samples are compared directly against the samples in the training set and the $k$ most similar (according to some chosen similarity or distance metric) vote on the class to predict. Training such a classifier consists simply of memorising the training set. For the implementation below, we will skip this step and just pass the training data directly to the prediction function.\n",
        "\n",
        "Although other distance metrics may be useful for real problem classes, for the purposes of this exercise you can stick to a simple Euclidean distance. The NumPy function [`numpy.linalg.norm`](https://numpy.org/doc/stable/reference/generated/numpy.linalg.norm.html) is one way to calculate this.\n",
        "\n",
        "You may find the function `vote` in the `utils` module useful."
      ],
      "metadata": {
        "id": "FXpzvXtJAr4x"
      }
    },
    {
      "cell_type": "markdown",
      "source": [
        "## 1.1 Implement $k$-Nearest Neighbours prediction\n",
        "\n",
        "Implement the body of the `nearest_neighbours_predict` function in the cell below.\n"
      ],
      "metadata": {
        "id": "RGJxos1yA34M"
      }
    },
    {
      "cell_type": "code",
      "source": [
        "def nearest_neighbours_predict ( train_X, train_y, test_X, neighbours=1 ):\n",
        "    \"\"\"\n",
        "    Predict labels for test data based on neighbourhood in\n",
        "    training set.\n",
        "\n",
        "    # Arguments:\n",
        "        train_X: an array of sample data for training, where rows\n",
        "            are samples and columns are features.\n",
        "        train_y: vector of class labels corresponding to the training\n",
        "            samples, must be same length as number of rows in X\n",
        "        test_X: an array of sample data to generate predictions for,\n",
        "            in same layout as train_X.\n",
        "        neighbours: how many neighbours to canvass at each test point\n",
        "\n",
        "    # Returns\n",
        "        test_y: predicted labels for the samples in test_X\n",
        "    \"\"\"\n",
        "    assert(train_X.shape[0] == train_y.shape[0])\n",
        "    assert(train_X.shape[1] == test_X.shape[1])\n",
        "\n",
        "    n_train = train_X.shape[0]\n",
        "    n_test = test_X.shape[0]\n",
        "\n",
        "    k = int(neighbours)\n",
        "    k = min(k, n_train)  # can't use more neighbours than available points\n",
        "\n",
        "    # Add \"None\" means adds a dimension of size 1, so NumPy can broadcast the arrays against each other.\n",
        "    # We can’t directly subtract (n_test, d) and (n_train, d).\n",
        "    difference = test_X[:, None, :] - train_X[None, :, :] # ( n_test, 1, d ) - ( 1, n_train, d )\n",
        "    Euc_distance = np.linalg.norm(difference, axis=2)\n",
        "\n",
        "    # Get indices of k nearest neighbours for each test sample\n",
        "    nn_idx_k = np.argpartition(Euc_distance, kth=k-1, axis=1)[:, :k]\n",
        "\n",
        "    # Predict by majority vote among the k nearest\n",
        "    test_y = np.empty(n_test, dtype=train_y.dtype)\n",
        "    for i in range(n_test):\n",
        "        local_idx = nn_idx_k[i] # Selects k nearest neighbours for one test sample\n",
        "        neighbour_labels = train_y[local_idx]\n",
        "        test_y[i] = utils.vote(neighbour_labels)\n",
        "\n",
        "    # TODO: implement the k-nearest neighbours algorithm\n",
        "    return test_y"
      ],
      "metadata": {
        "id": "tbnDPv-S6pHo"
      },
      "execution_count": 70,
      "outputs": []
    },
    {
      "cell_type": "markdown",
      "source": [
        "## → Run Task 1\n",
        "\n",
        "Execute the code cell below to run your k-NN function on the test data and plot the results.\n",
        "\n",
        "Feel free to try out different values for the configuration variables `NUM_SAMPLES`, `RESOLUTION` and `NEIGHBOURS` -- but note that larger values can slow things down significantly."
      ],
      "metadata": {
        "id": "NPwNjtpYh_F2"
      }
    },
    {
      "cell_type": "code",
      "source": [
        "NUM_SAMPLES = 50\n",
        "RESOLUTION = 100\n",
        "NEIGHBOURS = 3\n",
        "\n",
        "X = df[['X1','X2']].values[:NUM_SAMPLES,:]\n",
        "y = df['Multi'].values[:NUM_SAMPLES]\n",
        "\n",
        "fig = plt.figure(figsize=(6, 6))\n",
        "ax = fig.subplots()\n",
        "\n",
        "# this just tests to see whether there's a functioning implementation\n",
        "# before attempting to pass it to the plotting utility\n",
        "dummy = nearest_neighbours_predict ( X[:2,:], y[:2], X[:2,:], neighbours=NEIGHBOURS )\n",
        "if dummy is None:\n",
        "    utils.plot_unimplemented(ax, f'{NEIGHBOURS}-Nearest Neighbours')\n",
        "else:\n",
        "    nn_cls = lambda z: nearest_neighbours_predict ( X, y, z, neighbours=NEIGHBOURS )\n",
        "    utils.plot_classification_map(ax, nn_cls, X, y, resolution=RESOLUTION, title=f'{NEIGHBOURS}-Nearest Neighbours')\n"
      ],
      "metadata": {
        "id": "m5XyX-uSFWON",
        "colab": {
          "base_uri": "https://localhost:8080/",
          "height": 565
        },
        "outputId": "c26598a8-c5ed-4e20-f334-1e3f6fb413f5"
      },
      "execution_count": 71,
      "outputs": [
        {
          "output_type": "display_data",
          "data": {
            "text/plain": [
              "<Figure size 600x600 with 1 Axes>"
            ],
            "image/png": "[encoded data removed]"
          },
          "metadata": {}
        }
      ]
    },
    {
      "cell_type": "markdown",
      "source": [
        "# Task 2: Decision Trees\n",
        "\n",
        "Decision trees are both a learning model in their own right and an important constituent model for the ensemble methods in subsequent tasks. The model consists of a recursive sequence of binary tests, typically of inequalities on single feature values. These effectively partition the feature space into separate regions, each of which is then assigned the class that occurs most often among training samples within it.(Equivalently, those training samples *vote* on the outcome. Once again, the `utils.vote` function may be useful here.)\n",
        "\n",
        "Trees can be trained by a greedy brute force search for the split that minimises some chosen loss. Various losses are possible, but for simplicity here (and compatibility with Task 4 later) we will use a **weighted misclassification error** throughout:\n",
        "\n",
        "$$\n",
        "L(\\mathbf{y}, \\hat{\\mathbf{y}}, \\mathbf{w}) = \\sum_i w_i \\mathbb{1}(y_i \\neq \\hat{y}_i)\n",
        "$$\n",
        "\n",
        "Trees are a naturally recursive data structure that almost cry out for a class-based implementation, but here we limit ourselves to using dicts to avoid adding syntactical distractions for students who may not be very familiar with Python classes."
      ],
      "metadata": {
        "id": "FMWP8eI3Ba46"
      }
    },
    {
      "cell_type": "markdown",
      "source": [
        "## 2.1 Calculate a weighted misclassification error\n",
        "\n",
        "Implement the `misclassification` function in the code cell below. Note that if `weights` is not provided you should default it to $\\frac{1}{n}$.\n"
      ],
      "metadata": {
        "id": "rpZPvjqBBmqF"
      }
    },
    {
      "cell_type": "code",
      "source": [
        "def misclassification ( y, cls, weights=None ):\n",
        "    \"\"\"\n",
        "    Calculate (optionally-weighted) misclassification error for\n",
        "    a given set of labels if assigned the given class.\n",
        "\n",
        "    # Arguments\n",
        "        y: a set of class labels\n",
        "        cls: a candidate classification for the set\n",
        "        weights: optional weights vector specifying relative\n",
        "            importance of the samples labelled by y\n",
        "\n",
        "    # Returns\n",
        "        err: the misclassification error of the candidate labels\n",
        "    \"\"\"\n",
        "\n",
        "    y = np.asarray(y)\n",
        "    n = len(y)\n",
        "\n",
        "    if weights is None:\n",
        "      weights = np.ones(n)/n\n",
        "    else:\n",
        "      weights = np.asarray(weights)\n",
        "\n",
        "    # Indicator of misclassification (1 if wrong, 0 if correct)\n",
        "    misclassified = (y != cls).astype(float)\n",
        "\n",
        "    # Weighted sum of errors\n",
        "    err = np.sum(weights * misclassified)\n",
        "    # TODO: implement weighted misclassification metric\n",
        "    return err"
      ],
      "metadata": {
        "id": "2rTVOKdyLFMB"
      },
      "execution_count": 72,
      "outputs": []
    },
    {
      "cell_type": "markdown",
      "source": [
        "## 2.2 Split a dataset to reduce misclassification\n",
        "\n",
        "Implement the body of the `decision_node_split` function in the cell below. This function is quite involved and there are some finicky details, so read the docstring carefully.\n",
        "\n",
        "Some things to note:\n",
        "* It's a **brute force** search. Yes, this will scale badly and may also offend your coding sensibilities; just go with it.\n",
        "* The total loss after a split must be scaled according to the samples in each child node. You should be able to use the `weights` argument to help with this.\n",
        "* You need to decide on some tie-break policy for when multiple splits produce the same loss improvement.\n",
        "* The return values from this function are effectively **instructions** on how to split. You don't return the actual child node data."
      ],
      "metadata": {
        "id": "gb13HFsdB1Pc"
      }
    },
    {
      "cell_type": "code",
      "source": [
        "from pickle import NONE\n",
        "def decision_node_split ( X, y, cls=None, weights=None, min_size=3 ):\n",
        "    \"\"\"\n",
        "    Find (by brute force) a split point that best improves the weighted\n",
        "    misclassification error rate compared to the original one (or not, if\n",
        "    there is no improvement possible).\n",
        "\n",
        "    Features are assumed to be numeric and the test condition is\n",
        "    greater-or-equal.\n",
        "\n",
        "    # Arguments:\n",
        "        X: an array of sample data, where rows are samples\n",
        "            and columns are features.\n",
        "        y: vector of class labels corresponding to the samples,\n",
        "            must be same length as number of rows in X\n",
        "        cls: class label currently assigned to the whole set\n",
        "            (if not specified we use the most common class in y, or\n",
        "            the lowest such if 2 or more classes occur equally)\n",
        "        weights: optional weights vector specifying relevant importance\n",
        "            of the samples\n",
        "        min_size: don't create child nodes smaller than this\n",
        "\n",
        "    # Returns:\n",
        "        feature: index of the feature to test (or None, if no split)\n",
        "        thresh: value of the feature to test (or None, if no split)\n",
        "        c0: class assigned to the set with feature < thresh (or None, if no split)\n",
        "        c1: class assigned to the set with feature >= thresh (or None, if no split)\n",
        "    \"\"\"\n",
        "    assert(X.shape[0] == len(y))\n",
        "\n",
        "    n, f = X.shape\n",
        "    y = np.asarray(y)\n",
        "\n",
        "    # Weights: default uniform, normalize to sum 1\n",
        "    if weights is None:\n",
        "        weights = np.ones(n, dtype=float) / n\n",
        "    else:\n",
        "        w = np.asarray(weights, dtype=float)\n",
        "        s = weights.sum()\n",
        "        w = w / s if s > 0 else w\n",
        "\n",
        "    if cls is None:\n",
        "      labels, counts = np.unique(y, return_counts=True)\n",
        "      cls = labels[np.argmax(counts)]\n",
        "\n",
        "    # Parent loss: weighted misclassification of assigning whole node to cls\n",
        "    misclassified = (y != cls).astype(float)\n",
        "    parent_loss = np.sum(w * misclassified)\n",
        "\n",
        "    feature, thresh, c0, c1 = None, None, None, None\n",
        "    best_improvement = 0.0\n",
        "\n",
        "    # Brute-force over features and midpoints between distinct sorted values\n",
        "    for j in range(f):\n",
        "        xj = X[:, j]\n",
        "        order = np.argsort(xj, kind=\"mergesort\")  # stable for determinism\n",
        "        x_sorted = xj[order]\n",
        "        y_sorted = y[order]\n",
        "        w_sorted = w[order]\n",
        "\n",
        "        for s in range(1, n):\n",
        "            if x_sorted[s] == x_sorted[s-1]:\n",
        "                continue  # no effect split\n",
        "            left_count = s\n",
        "            right_count = n - s\n",
        "            if left_count < min_size or right_count < min_size:\n",
        "                continue\n",
        "\n",
        "            new_thresh = 0.5 * (x_sorted[s-1] + x_sorted[s])\n",
        "\n",
        "            y_left,  y_right  = y_sorted[:s], y_sorted[s:]\n",
        "            w_left,  w_right  = w_sorted[:s], w_sorted[s:]\n",
        "\n",
        "            # Child classes by majority (ties → smallest via np.unique)\n",
        "            vL, cL = np.unique(y_left, return_counts=True)\n",
        "            new_c0 = vL[np.argmax(cL)]\n",
        "            vR, cR = np.unique(y_right, return_counts=True)\n",
        "            new_c1 = vR[np.argmax(cR)]\n",
        "\n",
        "            # Weighted misclassification mass in each child (no need to renormalize)\n",
        "            err_left  = float(np.sum(w_left[y_left != new_c0]))\n",
        "            err_right = float(np.sum(w_right[y_right != new_c1]))\n",
        "            split_loss = err_left + err_right\n",
        "\n",
        "            improvement = parent_loss - split_loss\n",
        "            if improvement > best_improvement:\n",
        "                best_improvement = improvement\n",
        "                feature, thresh, c0, c1 = j, new_thresh, new_c0, new_c1\n",
        "                # tie-break: keep first best (implicit by strict \">\")\n",
        "\n",
        "    if feature is None or best_improvement <= 0.0:\n",
        "        return None, None, None, None\n",
        "\n",
        "    # TODO: implement this\n",
        "    return feature, thresh, c0, c1"
      ],
      "metadata": {
        "id": "SEYLZNSzLFok"
      },
      "execution_count": 73,
      "outputs": []
    },
    {
      "cell_type": "markdown",
      "source": [
        "## 2.3 Train a decision tree classifier\n",
        "\n",
        "Implement the body of the `decision_tree_train` function in the cell below.\n",
        "\n",
        "You should find that most of the hard work is already done by your `decision_node_split` function, and this is just responsible for managing the recursion. But doing so is also a bit finicky. Again, you should read the docstring carefully to get a handle on the returned data structure."
      ],
      "metadata": {
        "id": "O_6LsBT0RCNh"
      }
    },
    {
      "cell_type": "code",
      "source": [
        "def decision_tree_train ( X, y, cls=None, weights=None, min_size=3, depth=0, max_depth=10 ):\n",
        "    \"\"\"\n",
        "    Recursively choose split points for a training dataset\n",
        "    until no further improvement occurs.\n",
        "\n",
        "    # Arguments:\n",
        "        X: an array of sample data, where rows are samples\n",
        "            and columns are features.\n",
        "        y: vector of class labels corresponding to the samples,\n",
        "            must be same length as number of rows in X\n",
        "        cls: class label currently assigned to the whole set\n",
        "            (if not specified we use the most common class in y, or\n",
        "            the lowest such if 2 or more classes occur equally)\n",
        "        weights: optional weights vector specifying relevant importance\n",
        "            of the samples\n",
        "        min_size: don't create child nodes smaller than this\n",
        "        depth: current recursion depth\n",
        "        max_depth: maximum allowed recursion depth\n",
        "\n",
        "    # Returns:\n",
        "        tree: a dict containing (some of) the following keys:\n",
        "            'kind' : either 'leaf' or 'decision'\n",
        "            'class' : the class assigned to this node (for a leaf)\n",
        "            'feature' : index of feature on which to split (for a decision)\n",
        "            'thresh' : threshold at which to split the feature (for a decision)\n",
        "            'below' : a nested tree applicable when feature < thresh\n",
        "            'above' : a nested tree applicable when feature >= thresh\n",
        "    \"\"\"\n",
        "\n",
        "    assert X.shape[0] == len(y)\n",
        "    n, f = X.shape\n",
        "    y = np.asarray(y)\n",
        "\n",
        "    if weights is None:\n",
        "        w = np.ones(n, dtype=float) / n\n",
        "    else:\n",
        "        w = np.asarray(weights, dtype=float)\n",
        "        s = w.sum()\n",
        "        w = w / s if s > 0 else w\n",
        "\n",
        "    if cls is None:\n",
        "      labels, times = np.unique(y, return_counts=True)\n",
        "      cls = labels[np.argmax(times)]\n",
        "\n",
        "    if depth >= max_depth or np.unique(y).size == 1 or n < 2 * min_size:\n",
        "      return {'kind': 'leaf', 'class': cls}\n",
        "\n",
        "    feature, thresh, c0, c1 = decision_node_split(X, y, cls=cls, weights=w, min_size=min_size)\n",
        "\n",
        "    # If no improving split, make a leaf\n",
        "    if feature is None:\n",
        "        return {'kind': 'leaf', 'class': cls}\n",
        "\n",
        "    # Partition data\n",
        "    mask_below = X[:, feature] < thresh\n",
        "    mask_above = ~mask_below\n",
        "\n",
        "    # Recurse on children (pass child-specific cls and weights)\n",
        "    below = decision_tree_train(\n",
        "        X[mask_below], y[mask_below],\n",
        "        cls=c0, weights=w[mask_below],\n",
        "        min_size=min_size, depth=depth+1, max_depth=max_depth\n",
        "    )\n",
        "    above = decision_tree_train(\n",
        "        X[mask_above], y[mask_above],\n",
        "        cls=c1, weights=w[mask_above],\n",
        "        min_size=min_size, depth=depth+1, max_depth=max_depth\n",
        "    )\n",
        "\n",
        "    # TODO: implement this\n",
        "    return {\n",
        "        'kind': 'decision',\n",
        "        'feature': feature,\n",
        "        'thresh': thresh,\n",
        "        'below': below,\n",
        "        'above': above\n",
        "    }"
      ],
      "metadata": {
        "id": "wbG26t1eRWk4"
      },
      "execution_count": 74,
      "outputs": []
    },
    {
      "cell_type": "markdown",
      "source": [
        "## 2.4 Make predictions from a decision tree\n",
        "\n",
        "Implement the body of the `decision_tree_predict` function in the cell below. You will need to walk the tree for each sample, testing decision nodes until you reach a leaf.\n",
        "\n",
        "You may find it helpful to define an auxiliary function to process a single sample."
      ],
      "metadata": {
        "id": "e3hGm1bWPCm4"
      }
    },
    {
      "cell_type": "code",
      "source": [
        "def decision_tree_predict ( tree, X ):\n",
        "    \"\"\"\n",
        "    Predict labels for test data using a fitted decision tree.\n",
        "\n",
        "    # Arguments\n",
        "        tree: a decision tree dictionary returned by decision_tree_train\n",
        "        X: an array of sample data, where rows are samples\n",
        "            and columns are features.\n",
        "\n",
        "    # Returns\n",
        "        y: the predicted labels\n",
        "    \"\"\"\n",
        "\n",
        "    X = np.asarray(X)\n",
        "    n = X.shape[0]\n",
        "\n",
        "    probe = tree\n",
        "    while probe.get('kind') == 'decision':\n",
        "        probe = probe['below']\n",
        "    class_example = probe['class']\n",
        "    y = np.empty(n, dtype=type(class_example))\n",
        "\n",
        "    for i in range(n):\n",
        "        node = tree\n",
        "        while node.get('kind') == 'decision':\n",
        "            f = node['feature']; t = node['thresh']\n",
        "            node = node['below'] if X[i, f] < t else node['above']\n",
        "        y[i] = node['class']\n",
        "\n",
        "    return y"
      ],
      "metadata": {
        "id": "91gs5dXIPGKd"
      },
      "execution_count": 94,
      "outputs": []
    },
    {
      "cell_type": "markdown",
      "source": [
        "## → Run Task 2\n",
        "\n",
        "Execute the code cell below to use your functions above to train and test a decision tree classifier and generate a plot.\n",
        "\n",
        "As in Task 1, try playing with different values for `NUM_SAMPLES` and `RESOLUTION` and see how this affects the results — and the running time."
      ],
      "metadata": {
        "id": "7cOF1Dyfig7Z"
      }
    },
    {
      "cell_type": "code",
      "source": [
        "NUM_SAMPLES = 50\n",
        "RESOLUTION = 100\n",
        "MIN_SIZE = 3\n",
        "\n",
        "X = df[['X1','X2']].values[:NUM_SAMPLES,:]\n",
        "y = df['Multi'].values[:NUM_SAMPLES]\n",
        "\n",
        "fig = plt.figure(figsize=(6, 6))\n",
        "ax = fig.subplots()\n",
        "\n",
        "tree = decision_tree_train ( X, y, min_size=MIN_SIZE )\n",
        "if tree is None:\n",
        "    utils.plot_unimplemented(ax, f'Decision Tree')\n",
        "else:\n",
        "    tree_cls = lambda z: decision_tree_predict ( tree, z )\n",
        "    utils.plot_classification_map(ax, tree_cls, X, y, resolution=RESOLUTION, title=f'Decision Tree')\n"
      ],
      "metadata": {
        "id": "o-zoeOPlLG15",
        "colab": {
          "base_uri": "https://localhost:8080/",
          "height": 565
        },
        "outputId": "9c41c593-0b44-448a-d8eb-ec67f0fada3c"
      },
      "execution_count": 95,
      "outputs": [
        {
          "output_type": "display_data",
          "data": {
            "text/plain": [
              "<Figure size 600x600 with 1 Axes>"
            ],
            "image/png": "[encoded data removed]"
          },
          "metadata": {}
        }
      ]
    },
    {
      "cell_type": "markdown",
      "source": [
        "# Task 3: Random Forests\n",
        "\n",
        "Random forests<sup><small>TM</small></sup> are an ensemble model aggregating the predictions from multiple decision trees. Diversity is introduced into the ensemble by training the trees on **bootstrap samples** from the training set, and also by restricting the subset of features used by each tree.\n",
        "\n",
        "For the exercises below, we will forgo feature subsetting (we will only be using two features anyway) and focus on the **bagging** aspect.\n"
      ],
      "metadata": {
        "id": "IhLI-HSFUjj1"
      }
    },
    {
      "cell_type": "markdown",
      "source": [
        "## 3.1 Train a (simplified) random forest classifier\n",
        "\n",
        "Implement the `random_forest_train` function in the code cell below.\n",
        "\n",
        "Use the `decision_tree_train` function you wrote in Task 2.3 to train the individual trees. The [choice](https://numpy.org/doc/stable/reference/random/generated/numpy.random.Generator.choice.html) method of the supplied `rng` object should help with bootstrap sampling."
      ],
      "metadata": {
        "id": "Xxl22B-kXqRb"
      }
    },
    {
      "cell_type": "code",
      "source": [
        "def random_forest_train ( X, y, k, rng, min_size=3, max_depth=10 ):\n",
        "    \"\"\"\n",
        "    Train a (simplified) random forest of decision trees.\n",
        "\n",
        "    # Arguments:\n",
        "        X: an array of sample data, where rows are samples\n",
        "            and columns are features.\n",
        "        y: vector of binary class labels corresponding to the\n",
        "            samples, must be same length as number of rows in X\n",
        "        k: the number of trees in the forest\n",
        "        rng: an instance of numpy.random.Generator\n",
        "            from which to draw random numbers\n",
        "        min_size: don't create child nodes smaller than this\n",
        "        max_depth: maximum tree depth\n",
        "\n",
        "    # Returns:\n",
        "        forest: a list of tree dicts as returned by decision_tree_train\n",
        "    \"\"\"\n",
        "\n",
        "    assert X.shape[0] == len(y)\n",
        "    n = X.shape[0]\n",
        "    y = np.asarray(y)\n",
        "\n",
        "    forest = []\n",
        "    for _ in range(k):\n",
        "        # Bootstrap indices (sample n items with replacement)\n",
        "        idx = rng.choice(n, size=n, replace=True)\n",
        "        Xb, yb = X[idx], y[idx]\n",
        "\n",
        "        # Train a decision tree on the bootstrap sample\n",
        "        tree = decision_tree_train(\n",
        "            Xb, yb,\n",
        "            min_size=min_size,\n",
        "            max_depth=max_depth\n",
        "        )\n",
        "        forest.append(tree)\n",
        "\n",
        "    # TODO: implement this\n",
        "    return forest"
      ],
      "metadata": {
        "id": "yHp-QfcBX5ZP"
      },
      "execution_count": 83,
      "outputs": []
    },
    {
      "cell_type": "markdown",
      "source": [
        "## 3.2 Make predictions from a (simplified) random forest classifier\n",
        "\n",
        "Implement the `random_forest_predict` function in the cell below.\n",
        "\n",
        "Use the `decision_tree_predict` function you wrote in Task 2.4 to predict from the individual trees.\n",
        "\n",
        "Once again, the `utils.vote` function may be useful here."
      ],
      "metadata": {
        "id": "VHDxYFfcTXgy"
      }
    },
    {
      "cell_type": "code",
      "source": [
        "def random_forest_predict ( forest, X ):\n",
        "    \"\"\"\n",
        "    Predict labels for test data using a fitted random\n",
        "    forest of decision trees.\n",
        "\n",
        "    # Arguments\n",
        "        forest: a list of decision tree dicts\n",
        "        X: an array of sample data, where rows are samples\n",
        "            and columns are features.\n",
        "\n",
        "    # Returns\n",
        "        y: the predicted labels\n",
        "    \"\"\"\n",
        "\n",
        "    X = np.asarray(X)\n",
        "    n_trees = len(forest)\n",
        "    n_samples = X.shape[0]\n",
        "\n",
        "    # Collect predictions from all trees\n",
        "    all_preds = np.empty((n_trees, n_samples), dtype=float)\n",
        "    for i, tree in enumerate(forest):\n",
        "        all_preds[i] = decision_tree_predict(tree, X)\n",
        "\n",
        "    # Majority vote across trees for each sample\n",
        "    y = np.empty(n_samples, dtype=float)\n",
        "    for j in range(n_samples):\n",
        "        votes = all_preds[:, j]\n",
        "        y[j] = utils.vote(votes)\n",
        "\n",
        "\n",
        "    # TODO: implement this\n",
        "    return y"
      ],
      "metadata": {
        "id": "lAU0JqXCTX9i"
      },
      "execution_count": 90,
      "outputs": []
    },
    {
      "cell_type": "markdown",
      "source": [
        "## → Run Task 3\n",
        "\n",
        "Execute the cell below to train and test a simplified random forest classifier and produce a plot.\n",
        "\n"
      ],
      "metadata": {
        "id": "SG9VU7mwYtzI"
      }
    },
    {
      "cell_type": "code",
      "source": [
        "NUM_SAMPLES = 50\n",
        "RESOLUTION = 100\n",
        "NUM_TREES = 10\n",
        "\n",
        "X = df[['X1','X2']].values[:NUM_SAMPLES,:]\n",
        "y = df['Multi'].values[:NUM_SAMPLES]\n",
        "\n",
        "fig = plt.figure(figsize=(6, 6))\n",
        "ax = fig.subplots()\n",
        "\n",
        "forest = random_forest_train ( X, y, NUM_TREES, rng=shared_rng )\n",
        "if forest is None:\n",
        "    utils.plot_unimplemented(ax, f'Random Forest')\n",
        "else:\n",
        "    forest_cls = lambda z: random_forest_predict ( forest, z )\n",
        "    utils.plot_classification_map(ax, forest_cls, X, y, resolution=RESOLUTION, title=f'Random Forest ({NUM_TREES} trees)')"
      ],
      "metadata": {
        "id": "B9gZpHH3YuXF",
        "colab": {
          "base_uri": "https://localhost:8080/",
          "height": 565
        },
        "outputId": "576ae84b-2313-4ea0-d937-f0539d6ae91d"
      },
      "execution_count": 91,
      "outputs": [
        {
          "output_type": "display_data",
          "data": {
            "text/plain": [
              "<Figure size 600x600 with 1 Axes>"
            ],
            "image/png": "[encoded data removed]"
          },
          "metadata": {}
        }
      ]
    },
    {
      "cell_type": "markdown",
      "source": [
        "# Task 4: AdaBoost\n",
        "\n",
        "AdaBoost is a meta-algorithm that iteratively builds an ensemble of weak learners such that each new addition provides the best available marginal improvement in the ensemble performance. The new learner is chosen to minimise its weighted classification error on the training set, with the sample weights updated at each iteration to prioritise misclassified points. The training procedure is shown in pseudocode form below:\n",
        "\n",
        "\n",
        "* Initialise sample weights $w_i = \\frac{1}{n}, \\quad i \\in \\{1, 2, \\dots, n\\}$\n",
        "* **for** t = 1 to k **do**:\n",
        "  * fit classifier $h_t$ to minimise misclassification error with weights $w_i$\n",
        "  * set $\\epsilon =$ the weighted misclassification error of $h_t$\n",
        "  * compute prediction weight: $\\alpha_t = \\log\\big(\\frac{1-\\epsilon}{\\epsilon}\\big)$\n",
        "  * update weights: $w_i \\leftarrow w_i \\exp(\\alpha_t \\mathbb{1}(y_i \\neq h_i(x_i)))$\n",
        "  * normalise weights: $w_i = \\frac{w_i}{\\sum_j w_j}$\n",
        "\n",
        "Once the ensemble is trained, new samples are classified like this:\n",
        "\n",
        "$$\n",
        "\\hat{y} = \\mathbb{1}\\left(\\sum_t \\alpha_t h_t(\\mathbf{x}) \\ge 0\\right)\n",
        "$$\n",
        "\n",
        "Note that the training algorithm has been expressed in terms that don't require a particular binary labelling convention, but the prediction expression above assumes that the outputs of the classifiers $h_t$ are $\\{-1, 1\\}$. This is *not* the case for the decision trees implemented in Task 2, nor for the synthetic data. So you will need to convert the $h_t$ outputs appropriately within the prediction sum.\n",
        "\n",
        "AdaBoost is agnostic as to the class of weak learners used, but is commonly implemented using **decision stumps** — decision trees of depth 1 — and that is what you should do here, using the decision tree functions you implemented in Task 2."
      ],
      "metadata": {
        "id": "swxeclj-B54s"
      }
    },
    {
      "cell_type": "markdown",
      "source": [
        "## 4.1 Train an AdaBoost classifier\n",
        "\n",
        "Provide an implementation body for the `adaboost_train` function defined in the cell below.\n",
        "\n",
        "Once again, read the docstring carefully, as there are some fiddly details.\n"
      ],
      "metadata": {
        "id": "KXLDZUltCAFb"
      }
    },
    {
      "cell_type": "code",
      "source": [
        "def adaboost_train ( X, y, k, min_size=1, max_depth=1, epsilon=1e-8 ):\n",
        "    \"\"\"\n",
        "    Iteratively train a set of decision tree classifiers\n",
        "    using AdaBoost.\n",
        "\n",
        "    # Arguments:\n",
        "        X: an array of sample data, where rows are samples\n",
        "            and columns are features.\n",
        "        y: vector of binary class labels corresponding to the\n",
        "            samples, must be same length as number of rows in X\n",
        "        k: the maximum number of weak classifiers to train\n",
        "        min_size: don't create child nodes smaller than this\n",
        "        max_depth: maximum tree depth -- by default we just\n",
        "            use decision stumps\n",
        "        epsilon: threshold below which the error is considered 0\n",
        "\n",
        "    # Returns:\n",
        "        trees: a list of tree dicts as returned by decision_tree_train\n",
        "        alphas: a vector of weights indicating how much credence to\n",
        "            given each of the decision tree predictions\n",
        "    \"\"\"\n",
        "\n",
        "    assert X.shape[0] == len(y)\n",
        "    n = X.shape[0]\n",
        "    X = np.asarray(X)\n",
        "    y = np.asarray(y)\n",
        "\n",
        "    # initial uniform weights\n",
        "    w = np.ones(n, dtype=float) / n\n",
        "\n",
        "    trees = []\n",
        "    alphas = []\n",
        "\n",
        "    for _ in range(k):\n",
        "        # 1) train weak learner (decision stump by default)\n",
        "        tree = decision_tree_train(\n",
        "            X, y,\n",
        "            weights=w,\n",
        "            min_size=min_size,\n",
        "            max_depth=max_depth\n",
        "        )\n",
        "\n",
        "        # 2) predict on training data\n",
        "        y_hat = decision_tree_predict(tree, X)\n",
        "\n",
        "        # make sure comparison works (numeric)\n",
        "        y_hat = np.asarray(y_hat)\n",
        "        err = float(np.sum(w * (y_hat != y)))\n",
        "\n",
        "        # 3) clip error to avoid div-by-zero / log-inf\n",
        "        err = np.clip(err, epsilon, 1.0 - epsilon)\n",
        "\n",
        "        # if the learner is no better than random, stop early\n",
        "        if err >= 0.5:\n",
        "            break\n",
        "\n",
        "        # 4) compute learner weight\n",
        "        alpha = np.log((1.0 - err) / err)\n",
        "\n",
        "        # 5) update sample weights: w_i <- w_i * exp(alpha * 1[y_i != h(x_i)])\n",
        "        w *= np.exp(alpha * (y_hat != y))\n",
        "        w /= w.sum()  # normalize\n",
        "\n",
        "        trees.append(tree)\n",
        "        alphas.append(alpha)\n",
        "\n",
        "        # optional early stop if perfect\n",
        "        if err <= epsilon:\n",
        "            break\n",
        "\n",
        "    alphas = np.array(alphas, dtype=float)\n",
        "\n",
        "    # TODO: implement this\n",
        "    return trees, alphas"
      ],
      "metadata": {
        "id": "SA_hr24lNqOz"
      },
      "execution_count": 99,
      "outputs": []
    },
    {
      "cell_type": "markdown",
      "source": [
        "## 4.2 Make predictions from an AdaBoost classifier\n",
        "\n",
        "Implement the `adaboost_predict` function in the code cell below.\n",
        "\n",
        "As noted above, you will need to map the decision tree predictions from $\\{0, 1\\}$ to $\\{-1, 1\\}$."
      ],
      "metadata": {
        "id": "TAWiXdBPb1lr"
      }
    },
    {
      "cell_type": "code",
      "source": [
        "def adaboost_predict ( trees, alphas, X ):\n",
        "    \"\"\"\n",
        "    Predict labels for test data using a fitted AdaBoost\n",
        "    ensemble of decision trees.\n",
        "\n",
        "    # Arguments\n",
        "        trees: a list of decision tree dicts\n",
        "        alphas: a vector of weights for the trees\n",
        "        X: an array of sample data, where rows are samples\n",
        "            and columns are features.\n",
        "\n",
        "    # Returns\n",
        "        y: the predicted labels\n",
        "    \"\"\"\n",
        "\n",
        "    X = np.asarray(X)\n",
        "    n = X.shape[0]\n",
        "    alphas = np.asarray(alphas, dtype=float)\n",
        "\n",
        "    # Collect predictions from all trees\n",
        "    all_preds = [np.asarray(decision_tree_predict(t, X)) for t in trees]\n",
        "\n",
        "    # Determine the two class labels (binary)\n",
        "    classes = np.unique(np.concatenate(all_preds)) if len(all_preds) > 0 else np.array([])\n",
        "    if classes.size == 0:\n",
        "        return np.array([], dtype=float)\n",
        "    if classes.size == 1:\n",
        "        # All trees predict the same single class → return that everywhere\n",
        "        return np.full(n, classes[0], dtype=type(classes[0]))\n",
        "\n",
        "    neg_class, pos_class = np.sort(classes)[:2]  # smaller → negative, larger → positive\n",
        "\n",
        "    # Accumulate weighted votes in {-1,+1}\n",
        "    margin = np.zeros(n, dtype=float)\n",
        "    for preds, a in zip(all_preds, alphas):\n",
        "        h = np.where(preds == pos_class, 1.0, -1.0)  # map to {-1, +1}\n",
        "        margin += a * h\n",
        "\n",
        "    # Map sign back to original labels (>=0 → pos_class, <0 → neg_class)\n",
        "    y = np.where(margin >= 0.0, pos_class, neg_class)\n",
        "    y = y.astype(type(pos_class)) if np.isscalar(pos_class) else y\n",
        "\n",
        "    # TODO: implement this\n",
        "    return y"
      ],
      "metadata": {
        "id": "_rNQv3JQcGFA"
      },
      "execution_count": 102,
      "outputs": []
    },
    {
      "cell_type": "markdown",
      "source": [
        "## → Run Task 4\n",
        "\n",
        "Execute the code cell below to train and test an AdaBoost classifier and plot the results.\n"
      ],
      "metadata": {
        "id": "7DBIxl_ZitVG"
      }
    },
    {
      "cell_type": "code",
      "source": [
        "NUM_SAMPLES = 50\n",
        "RESOLUTION = 100\n",
        "NUM_TREES = 10\n",
        "\n",
        "X = df[['X1','X2']].values[:NUM_SAMPLES,:]\n",
        "y = df['Binary'].values[:NUM_SAMPLES]\n",
        "\n",
        "fig = plt.figure(figsize=(6, 6))\n",
        "ax = fig.subplots()\n",
        "\n",
        "trees, alphas = adaboost_train ( X, y, NUM_TREES )\n",
        "if forest is None:\n",
        "    utils.plot_unimplemented(ax, f'AdaBoost')\n",
        "else:\n",
        "    ada_cls = lambda z: adaboost_predict ( trees, alphas, z )\n",
        "    utils.plot_classification_map(ax, ada_cls, X, y, resolution=RESOLUTION, title=f'AdaBoost ({NUM_TREES} stumps)')"
      ],
      "metadata": {
        "id": "T-C7I1zBNr4V",
        "colab": {
          "base_uri": "https://localhost:8080/",
          "height": 565
        },
        "outputId": "5cabcd0b-d8ad-4e41-c533-6ca3ef4129a0"
      },
      "execution_count": 103,
      "outputs": [
        {
          "output_type": "display_data",
          "data": {
            "text/plain": [
              "<Figure size 600x600 with 1 Axes>"
            ],
            "image/png": "[encoded data removed]"
          },
          "metadata": {}
        }
      ]
    },
    {
      "cell_type": "markdown",
      "source": [
        "# Further exploration\n",
        "\n",
        "If you have exhausted the previous exercises, you might find it interesting to try out one or more of the following challenges. Doing so is entirely optional, but may provide some additional perspective that could be useful in the weeks ahead."
      ],
      "metadata": {
        "id": "ENAVpErdCTaX"
      }
    },
    {
      "cell_type": "markdown",
      "source": [
        "## Adapt your decision trees to use a different loss\n",
        "\n",
        "The decision trees for Task 2 use a weighted misclassification error in order to easily use them with AdaBoost. However, other loss functions may be preferable for some problems. Two common choices are the Gini impurity:\n",
        "\n",
        "\\begin{equation}\n",
        "\\sum_k p_k (1 - p_k)\n",
        "\\end{equation}\n",
        "\n",
        "and the entropy (or cross-entropy):\n",
        "\n",
        "\\begin{equation}\n",
        "- \\sum_k p_k \\log p_k\n",
        "\\end{equation}\n",
        "\n",
        "where $k$ ranges over all the classes present in the node and $p_k$ is the fraction of samples in the node that are of class $k$.\n",
        "\n",
        "Try modifying your implementation to use one or both of these losses and see what difference (if any) it makes to the splits chosen and the performance of the trees. (There is an implementation of `gini_impurity` in the `utils` module.)\n"
      ],
      "metadata": {
        "id": "HqJRn5FmCXNR"
      }
    },
    {
      "cell_type": "markdown",
      "source": [
        "## Add feature subset selection to your random forests\n",
        "\n",
        "For simplicity in Task 3 we omitted feature subsetting as a diversification mechanism in the ensemble. Try adding this and seeing if it makes much difference to your fits. You will need to adapt the data structure used for the forest to keep track of which trees are using which features so that the correct subsets can be used at test time.\n",
        "\n",
        "You may want to find some higher-dimensional data to apply your modified algorithm to, as the supplied data---having only two features---doesn't provide very much scope for variation. As mentioned last week, the [`scikit-learn` datasets](https://scikit-learn.org/stable/datasets.html) package can be a good source of data to play with.\n"
      ],
      "metadata": {
        "id": "5rf1J7K4L10r"
      }
    },
    {
      "cell_type": "markdown",
      "source": [
        "## Implement an ExtraTrees ensemble\n",
        "\n",
        "Bagging and feature subsetting are not the only way to build a diverse ensemble of decision trees. In the ExtraTrees or **extremely randomised trees** approach, the training algorithm for the trees is modified instead. At each split point, rather than performing a brute force search over all possible splits, a random search is used instead: some specified (but relatively small) number of purely random candidate splits are evaluated, and the best of these is chosen. This can result in a high degree of variation in the ensemble that *may* better probe the structure of the data distribution.\n",
        "\n",
        "Try implementing this fitting procedure and comparing its behaviour to that of the random forest. Is there any meaningful difference for our simple data?\n"
      ],
      "metadata": {
        "id": "m-usBkyvOAP9"
      }
    },
    {
      "cell_type": "markdown",
      "source": [
        "## Compare the behaviour of these models in `scikit-learn`\n",
        "\n",
        "For practical applications, you will almost never need to implement classic ML models like decision trees and random forests yourself. Instead, you will typically use existing implementations such as those in the [`scikit-learn`](https://scikit-learn.org/stable/index.html) library. Because they are so widely used, these are likely to be more versatile, better optimised and better tested than your own code.\n",
        "\n",
        "`scikit-learn` supports a wide range of ML models and algorithms, including all those in the lab exercises above: [nearest neighbours](https://scikit-learn.org/stable/modules/neighbors.html#nearest-neighbors-classification), [decision trees](https://scikit-learn.org/stable/modules/tree.html), [AdaBoost](https://scikit-learn.org/stable/modules/ensemble.html#adaboost) and [forests of randomised trees](https://scikit-learn.org/stable/modules/ensemble.html#forests-of-randomized-trees). Models have (mostly) consistent interfaces for training and evaluation, so it is usually straightforward to swap between different models and compare their behaviour.\n",
        "\n",
        "We will see a bit more of this library in future weeks, but by all means get acquainted with it now if you have the time and inclination."
      ],
      "metadata": {
        "id": "jikCLZ3nfBLe"
      }
    }
  ]
}